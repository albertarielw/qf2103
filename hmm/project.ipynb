{
 "cells": [
  {
   "cell_type": "code",
   "execution_count": 2,
   "metadata": {},
   "outputs": [],
   "source": [
    "import numpy as np\n",
    "from hmmlearn import hmm\n",
    "from sklearn.model_selection import train_test_split\n",
    "from sklearn.metrics import mean_squared_error\n",
    "import pandas as pd\n",
    "import matplotlib.pyplot as plt"
   ]
  },
  {
   "cell_type": "code",
   "execution_count": 3,
   "metadata": {},
   "outputs": [],
   "source": [
    "'''\n",
    "CONST\n",
    "'''\n",
    "FILEPATH_STOCK_PRICE = \"./tr_eikon_eod_data.csv\"\n",
    "STOCK_NAMES = ['AAPL.O', 'MSFT.O', 'INTC.O', 'AMZN.O', 'GS.N']"
   ]
  },
  {
   "cell_type": "code",
   "execution_count": 4,
   "metadata": {},
   "outputs": [],
   "source": [
    "''' \n",
    "UTILS\n",
    "'''\n",
    "def sequential_train_test_split(data, ratio = 0.8):\n",
    "    df = pd.DataFrame(data.dropna()).to_numpy()\n",
    "    split_index = int(len(df) * ratio)\n",
    "    return df[:split_index], df[split_index:]\n"
   ]
  },
  {
   "cell_type": "code",
   "execution_count": 5,
   "metadata": {},
   "outputs": [],
   "source": [
    "'''\n",
    "BENCHMARK\n",
    "'''\n",
    "\n",
    "def benchmark_accuracy(prediction, test):\n",
    "    prediction = pd.DataFrame(prediction)\n",
    "    test = pd.DataFrame(test)\n",
    "\n",
    "    benchmark = np.where(\n",
    "        test >= test.shift(1),\n",
    "        1,\n",
    "        -1\n",
    "    )\n",
    "    return (prediction == benchmark).sum() / len(prediction)\n"
   ]
  },
  {
   "cell_type": "code",
   "execution_count": 6,
   "metadata": {},
   "outputs": [],
   "source": [
    "''' \n",
    "MODEL\n",
    "'''\n",
    "\n",
    "def predict_position(train, test):\n",
    "    # Train Hidden Markov Model\n",
    "    model = hmm.GaussianHMM(n_components=2, covariance_type=\"diag\", n_iter=1000)\n",
    "    model.fit(train.reshape(-1, 1))\n",
    "\n",
    "    # Predict hidden states for test data\n",
    "    hidden_states = model.predict(test.reshape(-1, 1))\n",
    "\n",
    "    # Define a function to map hidden states to rise or fall\n",
    "    def map_to_rise_or_fall(state):\n",
    "        return 1 if state == 0 else -1\n",
    "\n",
    "    # Map hidden states to rise or fall\n",
    "    predicted_rise_fall = np.array(list(map(map_to_rise_or_fall, hidden_states)))\n",
    "\n",
    "    return predicted_rise_fall"
   ]
  },
  {
   "cell_type": "code",
   "execution_count": 7,
   "metadata": {},
   "outputs": [
    {
     "data": {
      "text/html": [
       "<div>\n",
       "<style scoped>\n",
       "    .dataframe tbody tr th:only-of-type {\n",
       "        vertical-align: middle;\n",
       "    }\n",
       "\n",
       "    .dataframe tbody tr th {\n",
       "        vertical-align: top;\n",
       "    }\n",
       "\n",
       "    .dataframe thead th {\n",
       "        text-align: right;\n",
       "    }\n",
       "</style>\n",
       "<table border=\"1\" class=\"dataframe\">\n",
       "  <thead>\n",
       "    <tr style=\"text-align: right;\">\n",
       "      <th></th>\n",
       "      <th>AAPL.O</th>\n",
       "      <th>SlowK</th>\n",
       "      <th>SlowD</th>\n",
       "      <th>RSI</th>\n",
       "      <th>ADX</th>\n",
       "      <th>CCI</th>\n",
       "      <th>Aroon Down</th>\n",
       "      <th>Aroon Up</th>\n",
       "      <th>direction</th>\n",
       "    </tr>\n",
       "    <tr>\n",
       "      <th>Date</th>\n",
       "      <th></th>\n",
       "      <th></th>\n",
       "      <th></th>\n",
       "      <th></th>\n",
       "      <th></th>\n",
       "      <th></th>\n",
       "      <th></th>\n",
       "      <th></th>\n",
       "      <th></th>\n",
       "    </tr>\n",
       "  </thead>\n",
       "  <tbody>\n",
       "    <tr>\n",
       "      <th>2010-01-01</th>\n",
       "      <td>NaN</td>\n",
       "      <td>NaN</td>\n",
       "      <td>NaN</td>\n",
       "      <td>NaN</td>\n",
       "      <td>NaN</td>\n",
       "      <td>NaN</td>\n",
       "      <td>NaN</td>\n",
       "      <td>NaN</td>\n",
       "      <td>NaN</td>\n",
       "    </tr>\n",
       "    <tr>\n",
       "      <th>2010-04-01</th>\n",
       "      <td>30.572827</td>\n",
       "      <td>78.7484</td>\n",
       "      <td>82.8722</td>\n",
       "      <td>75.0702</td>\n",
       "      <td>38.0954</td>\n",
       "      <td>96.8893</td>\n",
       "      <td>42.8571</td>\n",
       "      <td>100.0000</td>\n",
       "      <td>-1.0</td>\n",
       "    </tr>\n",
       "    <tr>\n",
       "      <th>2010-05-01</th>\n",
       "      <td>30.625684</td>\n",
       "      <td>NaN</td>\n",
       "      <td>NaN</td>\n",
       "      <td>NaN</td>\n",
       "      <td>NaN</td>\n",
       "      <td>NaN</td>\n",
       "      <td>NaN</td>\n",
       "      <td>NaN</td>\n",
       "      <td>-1.0</td>\n",
       "    </tr>\n",
       "    <tr>\n",
       "      <th>2010-06-01</th>\n",
       "      <td>30.138541</td>\n",
       "      <td>89.5060</td>\n",
       "      <td>82.1665</td>\n",
       "      <td>57.5986</td>\n",
       "      <td>35.3551</td>\n",
       "      <td>151.4643</td>\n",
       "      <td>57.1429</td>\n",
       "      <td>100.0000</td>\n",
       "      <td>1.0</td>\n",
       "    </tr>\n",
       "    <tr>\n",
       "      <th>2010-07-01</th>\n",
       "      <td>30.082827</td>\n",
       "      <td>11.7287</td>\n",
       "      <td>14.7644</td>\n",
       "      <td>38.9499</td>\n",
       "      <td>24.7259</td>\n",
       "      <td>-152.8759</td>\n",
       "      <td>100.0000</td>\n",
       "      <td>42.8571</td>\n",
       "      <td>-1.0</td>\n",
       "    </tr>\n",
       "    <tr>\n",
       "      <th>...</th>\n",
       "      <td>...</td>\n",
       "      <td>...</td>\n",
       "      <td>...</td>\n",
       "      <td>...</td>\n",
       "      <td>...</td>\n",
       "      <td>...</td>\n",
       "      <td>...</td>\n",
       "      <td>...</td>\n",
       "      <td>...</td>\n",
       "    </tr>\n",
       "    <tr>\n",
       "      <th>2018-06-25</th>\n",
       "      <td>182.170000</td>\n",
       "      <td>24.7765</td>\n",
       "      <td>28.7326</td>\n",
       "      <td>33.5305</td>\n",
       "      <td>28.2742</td>\n",
       "      <td>-132.0057</td>\n",
       "      <td>100.0000</td>\n",
       "      <td>14.2857</td>\n",
       "      <td>-1.0</td>\n",
       "    </tr>\n",
       "    <tr>\n",
       "      <th>2018-06-26</th>\n",
       "      <td>184.430000</td>\n",
       "      <td>30.9769</td>\n",
       "      <td>28.9171</td>\n",
       "      <td>32.5318</td>\n",
       "      <td>28.2014</td>\n",
       "      <td>-70.9622</td>\n",
       "      <td>92.8571</td>\n",
       "      <td>7.1429</td>\n",
       "      <td>-1.0</td>\n",
       "    </tr>\n",
       "    <tr>\n",
       "      <th>2018-06-27</th>\n",
       "      <td>184.160000</td>\n",
       "      <td>37.4891</td>\n",
       "      <td>31.0808</td>\n",
       "      <td>42.8627</td>\n",
       "      <td>27.4502</td>\n",
       "      <td>-43.5508</td>\n",
       "      <td>85.7143</td>\n",
       "      <td>0.0000</td>\n",
       "      <td>1.0</td>\n",
       "    </tr>\n",
       "    <tr>\n",
       "      <th>2018-06-28</th>\n",
       "      <td>185.500000</td>\n",
       "      <td>55.4647</td>\n",
       "      <td>41.3102</td>\n",
       "      <td>39.4747</td>\n",
       "      <td>26.9167</td>\n",
       "      <td>-30.3030</td>\n",
       "      <td>78.5714</td>\n",
       "      <td>21.4286</td>\n",
       "      <td>-1.0</td>\n",
       "    </tr>\n",
       "    <tr>\n",
       "      <th>2018-06-29</th>\n",
       "      <td>185.110000</td>\n",
       "      <td>61.5693</td>\n",
       "      <td>51.5077</td>\n",
       "      <td>48.2783</td>\n",
       "      <td>25.4782</td>\n",
       "      <td>-22.6330</td>\n",
       "      <td>71.4286</td>\n",
       "      <td>14.2857</td>\n",
       "      <td>1.0</td>\n",
       "    </tr>\n",
       "  </tbody>\n",
       "</table>\n",
       "<p>2216 rows × 9 columns</p>\n",
       "</div>"
      ],
      "text/plain": [
       "                AAPL.O    SlowK    SlowD      RSI      ADX       CCI  \\\n",
       "Date                                                                   \n",
       "2010-01-01         NaN      NaN      NaN      NaN      NaN       NaN   \n",
       "2010-04-01   30.572827  78.7484  82.8722  75.0702  38.0954   96.8893   \n",
       "2010-05-01   30.625684      NaN      NaN      NaN      NaN       NaN   \n",
       "2010-06-01   30.138541  89.5060  82.1665  57.5986  35.3551  151.4643   \n",
       "2010-07-01   30.082827  11.7287  14.7644  38.9499  24.7259 -152.8759   \n",
       "...                ...      ...      ...      ...      ...       ...   \n",
       "2018-06-25  182.170000  24.7765  28.7326  33.5305  28.2742 -132.0057   \n",
       "2018-06-26  184.430000  30.9769  28.9171  32.5318  28.2014  -70.9622   \n",
       "2018-06-27  184.160000  37.4891  31.0808  42.8627  27.4502  -43.5508   \n",
       "2018-06-28  185.500000  55.4647  41.3102  39.4747  26.9167  -30.3030   \n",
       "2018-06-29  185.110000  61.5693  51.5077  48.2783  25.4782  -22.6330   \n",
       "\n",
       "            Aroon Down  Aroon Up  direction  \n",
       "Date                                         \n",
       "2010-01-01         NaN       NaN        NaN  \n",
       "2010-04-01     42.8571  100.0000       -1.0  \n",
       "2010-05-01         NaN       NaN       -1.0  \n",
       "2010-06-01     57.1429  100.0000        1.0  \n",
       "2010-07-01    100.0000   42.8571       -1.0  \n",
       "...                ...       ...        ...  \n",
       "2018-06-25    100.0000   14.2857       -1.0  \n",
       "2018-06-26     92.8571    7.1429       -1.0  \n",
       "2018-06-27     85.7143    0.0000        1.0  \n",
       "2018-06-28     78.5714   21.4286       -1.0  \n",
       "2018-06-29     71.4286   14.2857        1.0  \n",
       "\n",
       "[2216 rows x 9 columns]"
      ]
     },
     "execution_count": 7,
     "metadata": {},
     "output_type": "execute_result"
    }
   ],
   "source": [
    "apple_data = pd.read_csv('apple_output.csv', index_col = 0, parse_dates = True)\n",
    "apple_data['direction'] = np.where(apple_data['AAPL.O'] >= apple_data['AAPL.O'].shift(1), 1, -1)\n",
    "apple_data['direction'] = apple_data['direction'].shift(1) # shift because we use today's values to predict tomorrow's directions (tomorrow's values are not available yet)\n",
    "\n",
    "apple_data"
   ]
  },
  {
   "cell_type": "code",
   "execution_count": 12,
   "metadata": {},
   "outputs": [],
   "source": [
    "train_data, test_data = sequential_train_test_split(apple_data)\n",
    "X_train, y_train, X_test, y_test = train_data[:, :-1], train_data[:, -1], test_data[:, :-1], test_data[:, -1]"
   ]
  },
  {
   "cell_type": "code",
   "execution_count": 13,
   "metadata": {},
   "outputs": [
    {
     "data": {
      "text/plain": [
       "1509"
      ]
     },
     "execution_count": 13,
     "metadata": {},
     "output_type": "execute_result"
    }
   ],
   "source": [
    "len(X_train)\n",
    "len(y_train)"
   ]
  },
  {
   "cell_type": "code",
   "execution_count": 14,
   "metadata": {},
   "outputs": [
    {
     "data": {
      "text/plain": [
       "0    0.521164\n",
       "dtype: float64"
      ]
     },
     "execution_count": 14,
     "metadata": {},
     "output_type": "execute_result"
    }
   ],
   "source": [
    "from sklearn.neural_network import MLPClassifier\n",
    "model = MLPClassifier(hidden_layer_sizes=[200] * 2, random_state=1)\n",
    "prediction = model.fit(X_train, y_train).predict(X_test)\n",
    "benchmark_accuracy(prediction, y_test)"
   ]
  },
  {
   "cell_type": "code",
   "execution_count": 17,
   "metadata": {},
   "outputs": [
    {
     "data": {
      "text/plain": [
       "0    0.616402\n",
       "dtype: float64"
      ]
     },
     "execution_count": 17,
     "metadata": {},
     "output_type": "execute_result"
    }
   ],
   "source": [
    "model = MLPClassifier(hidden_layer_sizes=[50] * 3, random_state=1)\n",
    "prediction = model.fit(X_train, y_train).predict(X_test)\n",
    "benchmark_accuracy(prediction, y_test)"
   ]
  },
  {
   "cell_type": "code",
   "execution_count": 10,
   "metadata": {},
   "outputs": [
    {
     "name": "stdout",
     "output_type": "stream",
     "text": [
      "[10, 1, 0    0.510582\n",
      "dtype: float64]\n",
      "[10, 2, 0    0.542328\n",
      "dtype: float64]\n"
     ]
    },
    {
     "name": "stderr",
     "output_type": "stream",
     "text": [
      "/Library/Frameworks/Python.framework/Versions/3.11/lib/python3.11/site-packages/sklearn/neural_network/_multilayer_perceptron.py:691: ConvergenceWarning: Stochastic Optimizer: Maximum iterations (200) reached and the optimization hasn't converged yet.\n",
      "  warnings.warn(\n"
     ]
    },
    {
     "name": "stdout",
     "output_type": "stream",
     "text": [
      "[10, 3, 0    0.55291\n",
      "dtype: float64]\n"
     ]
    },
    {
     "name": "stderr",
     "output_type": "stream",
     "text": [
      "/Library/Frameworks/Python.framework/Versions/3.11/lib/python3.11/site-packages/sklearn/neural_network/_multilayer_perceptron.py:691: ConvergenceWarning: Stochastic Optimizer: Maximum iterations (200) reached and the optimization hasn't converged yet.\n",
      "  warnings.warn(\n"
     ]
    },
    {
     "name": "stdout",
     "output_type": "stream",
     "text": [
      "[10, 4, 0    0.439153\n",
      "dtype: float64]\n",
      "[10, 5, 0    0.550265\n",
      "dtype: float64]\n"
     ]
    },
    {
     "name": "stderr",
     "output_type": "stream",
     "text": [
      "/Library/Frameworks/Python.framework/Versions/3.11/lib/python3.11/site-packages/sklearn/neural_network/_multilayer_perceptron.py:691: ConvergenceWarning: Stochastic Optimizer: Maximum iterations (200) reached and the optimization hasn't converged yet.\n",
      "  warnings.warn(\n"
     ]
    },
    {
     "name": "stdout",
     "output_type": "stream",
     "text": [
      "[10, 6, 0    0.555556\n",
      "dtype: float64]\n"
     ]
    },
    {
     "name": "stderr",
     "output_type": "stream",
     "text": [
      "/Library/Frameworks/Python.framework/Versions/3.11/lib/python3.11/site-packages/sklearn/neural_network/_multilayer_perceptron.py:691: ConvergenceWarning: Stochastic Optimizer: Maximum iterations (200) reached and the optimization hasn't converged yet.\n",
      "  warnings.warn(\n"
     ]
    },
    {
     "name": "stdout",
     "output_type": "stream",
     "text": [
      "[10, 7, 0    0.5\n",
      "dtype: float64]\n"
     ]
    },
    {
     "name": "stderr",
     "output_type": "stream",
     "text": [
      "/Library/Frameworks/Python.framework/Versions/3.11/lib/python3.11/site-packages/sklearn/neural_network/_multilayer_perceptron.py:691: ConvergenceWarning: Stochastic Optimizer: Maximum iterations (200) reached and the optimization hasn't converged yet.\n",
      "  warnings.warn(\n"
     ]
    },
    {
     "name": "stdout",
     "output_type": "stream",
     "text": [
      "[10, 8, 0    0.595238\n",
      "dtype: float64]\n"
     ]
    },
    {
     "name": "stderr",
     "output_type": "stream",
     "text": [
      "/Library/Frameworks/Python.framework/Versions/3.11/lib/python3.11/site-packages/sklearn/neural_network/_multilayer_perceptron.py:691: ConvergenceWarning: Stochastic Optimizer: Maximum iterations (200) reached and the optimization hasn't converged yet.\n",
      "  warnings.warn(\n"
     ]
    },
    {
     "name": "stdout",
     "output_type": "stream",
     "text": [
      "[10, 9, 0    0.439153\n",
      "dtype: float64]\n",
      "[10, 10, 0    0.468254\n",
      "dtype: float64]\n",
      "[20, 1, 0    0.433862\n",
      "dtype: float64]\n"
     ]
    },
    {
     "name": "stderr",
     "output_type": "stream",
     "text": [
      "/Library/Frameworks/Python.framework/Versions/3.11/lib/python3.11/site-packages/sklearn/neural_network/_multilayer_perceptron.py:691: ConvergenceWarning: Stochastic Optimizer: Maximum iterations (200) reached and the optimization hasn't converged yet.\n",
      "  warnings.warn(\n"
     ]
    },
    {
     "name": "stdout",
     "output_type": "stream",
     "text": [
      "[20, 2, 0    0.468254\n",
      "dtype: float64]\n"
     ]
    },
    {
     "name": "stderr",
     "output_type": "stream",
     "text": [
      "/Library/Frameworks/Python.framework/Versions/3.11/lib/python3.11/site-packages/sklearn/neural_network/_multilayer_perceptron.py:691: ConvergenceWarning: Stochastic Optimizer: Maximum iterations (200) reached and the optimization hasn't converged yet.\n",
      "  warnings.warn(\n"
     ]
    },
    {
     "name": "stdout",
     "output_type": "stream",
     "text": [
      "[20, 3, 0    0.404762\n",
      "dtype: float64]\n",
      "[20, 4, 0    0.431217\n",
      "dtype: float64]\n"
     ]
    },
    {
     "name": "stderr",
     "output_type": "stream",
     "text": [
      "/Library/Frameworks/Python.framework/Versions/3.11/lib/python3.11/site-packages/sklearn/neural_network/_multilayer_perceptron.py:691: ConvergenceWarning: Stochastic Optimizer: Maximum iterations (200) reached and the optimization hasn't converged yet.\n",
      "  warnings.warn(\n"
     ]
    },
    {
     "name": "stdout",
     "output_type": "stream",
     "text": [
      "[20, 5, 0    0.505291\n",
      "dtype: float64]\n"
     ]
    },
    {
     "name": "stderr",
     "output_type": "stream",
     "text": [
      "/Library/Frameworks/Python.framework/Versions/3.11/lib/python3.11/site-packages/sklearn/neural_network/_multilayer_perceptron.py:691: ConvergenceWarning: Stochastic Optimizer: Maximum iterations (200) reached and the optimization hasn't converged yet.\n",
      "  warnings.warn(\n"
     ]
    },
    {
     "name": "stdout",
     "output_type": "stream",
     "text": [
      "[20, 6, 0    0.441799\n",
      "dtype: float64]\n"
     ]
    },
    {
     "name": "stderr",
     "output_type": "stream",
     "text": [
      "/Library/Frameworks/Python.framework/Versions/3.11/lib/python3.11/site-packages/sklearn/neural_network/_multilayer_perceptron.py:691: ConvergenceWarning: Stochastic Optimizer: Maximum iterations (200) reached and the optimization hasn't converged yet.\n",
      "  warnings.warn(\n"
     ]
    },
    {
     "name": "stdout",
     "output_type": "stream",
     "text": [
      "[20, 7, 0    0.489418\n",
      "dtype: float64]\n",
      "[20, 8, 0    0.462963\n",
      "dtype: float64]\n",
      "[20, 9, 0    0.47619\n",
      "dtype: float64]\n",
      "[20, 10, 0    0.462963\n",
      "dtype: float64]\n",
      "[30, 1, 0    0.420635\n",
      "dtype: float64]\n"
     ]
    },
    {
     "name": "stderr",
     "output_type": "stream",
     "text": [
      "/Library/Frameworks/Python.framework/Versions/3.11/lib/python3.11/site-packages/sklearn/neural_network/_multilayer_perceptron.py:691: ConvergenceWarning: Stochastic Optimizer: Maximum iterations (200) reached and the optimization hasn't converged yet.\n",
      "  warnings.warn(\n"
     ]
    },
    {
     "name": "stdout",
     "output_type": "stream",
     "text": [
      "[30, 2, 0    0.433862\n",
      "dtype: float64]\n"
     ]
    },
    {
     "name": "stderr",
     "output_type": "stream",
     "text": [
      "/Library/Frameworks/Python.framework/Versions/3.11/lib/python3.11/site-packages/sklearn/neural_network/_multilayer_perceptron.py:691: ConvergenceWarning: Stochastic Optimizer: Maximum iterations (200) reached and the optimization hasn't converged yet.\n",
      "  warnings.warn(\n"
     ]
    },
    {
     "name": "stdout",
     "output_type": "stream",
     "text": [
      "[30, 3, 0    0.407407\n",
      "dtype: float64]\n",
      "[30, 4, 0    0.468254\n",
      "dtype: float64]\n",
      "[30, 5, 0    0.383598\n",
      "dtype: float64]\n",
      "[30, 6, 0    0.42328\n",
      "dtype: float64]\n"
     ]
    },
    {
     "name": "stderr",
     "output_type": "stream",
     "text": [
      "/Library/Frameworks/Python.framework/Versions/3.11/lib/python3.11/site-packages/sklearn/neural_network/_multilayer_perceptron.py:691: ConvergenceWarning: Stochastic Optimizer: Maximum iterations (200) reached and the optimization hasn't converged yet.\n",
      "  warnings.warn(\n"
     ]
    },
    {
     "name": "stdout",
     "output_type": "stream",
     "text": [
      "[30, 7, 0    0.544974\n",
      "dtype: float64]\n",
      "[30, 8, 0    0.486772\n",
      "dtype: float64]\n",
      "[30, 9, 0    0.417989\n",
      "dtype: float64]\n",
      "[30, 10, 0    0.534392\n",
      "dtype: float64]\n",
      "[40, 1, 0    0.391534\n",
      "dtype: float64]\n",
      "[40, 2, 0    0.494709\n",
      "dtype: float64]\n",
      "[40, 3, 0    0.325397\n",
      "dtype: float64]\n",
      "[40, 4, 0    0.481481\n",
      "dtype: float64]\n"
     ]
    },
    {
     "name": "stderr",
     "output_type": "stream",
     "text": [
      "/Library/Frameworks/Python.framework/Versions/3.11/lib/python3.11/site-packages/sklearn/neural_network/_multilayer_perceptron.py:691: ConvergenceWarning: Stochastic Optimizer: Maximum iterations (200) reached and the optimization hasn't converged yet.\n",
      "  warnings.warn(\n"
     ]
    },
    {
     "name": "stdout",
     "output_type": "stream",
     "text": [
      "[40, 5, 0    0.388889\n",
      "dtype: float64]\n",
      "[40, 6, 0    0.55291\n",
      "dtype: float64]\n",
      "[40, 7, 0    0.42328\n",
      "dtype: float64]\n",
      "[40, 8, 0    0.444444\n",
      "dtype: float64]\n",
      "[40, 9, 0    0.383598\n",
      "dtype: float64]\n",
      "[40, 10, 0    0.335979\n",
      "dtype: float64]\n",
      "[50, 1, 0    0.579365\n",
      "dtype: float64]\n",
      "[50, 2, 0    0.518519\n",
      "dtype: float64]\n",
      "[50, 3, 0    0.616402\n",
      "dtype: float64]\n",
      "[50, 4, 0    0.380952\n",
      "dtype: float64]\n",
      "[50, 5, 0    0.529101\n",
      "dtype: float64]\n",
      "[50, 6, 0    0.34127\n",
      "dtype: float64]\n",
      "[50, 7, 0    0.44709\n",
      "dtype: float64]\n",
      "[50, 8, 0    0.497354\n",
      "dtype: float64]\n",
      "[50, 9, 0    0.465608\n",
      "dtype: float64]\n",
      "[50, 10, 0    0.402116\n",
      "dtype: float64]\n",
      "[60, 1, 0    0.544974\n",
      "dtype: float64]\n",
      "[60, 2, 0    0.531746\n",
      "dtype: float64]\n",
      "[60, 3, 0    0.333333\n",
      "dtype: float64]\n",
      "[60, 4, 0    0.452381\n",
      "dtype: float64]\n",
      "[60, 5, 0    0.5\n",
      "dtype: float64]\n",
      "[60, 6, 0    0.441799\n",
      "dtype: float64]\n",
      "[60, 7, 0    0.415344\n",
      "dtype: float64]\n",
      "[60, 8, 0    0.534392\n",
      "dtype: float64]\n",
      "[60, 9, 0    0.492063\n",
      "dtype: float64]\n",
      "[60, 10, 0    0.526455\n",
      "dtype: float64]\n",
      "[70, 1, 0    0.470899\n",
      "dtype: float64]\n",
      "[70, 2, 0    0.380952\n",
      "dtype: float64]\n",
      "[70, 3, 0    0.349206\n",
      "dtype: float64]\n",
      "[70, 4, 0    0.420635\n",
      "dtype: float64]\n",
      "[70, 5, 0    0.455026\n",
      "dtype: float64]\n",
      "[70, 6, 0    0.468254\n",
      "dtype: float64]\n",
      "[70, 7, 0    0.518519\n",
      "dtype: float64]\n",
      "[70, 8, 0    0.460317\n",
      "dtype: float64]\n",
      "[70, 9, 0    0.486772\n",
      "dtype: float64]\n",
      "[70, 10, 0    0.457672\n",
      "dtype: float64]\n",
      "[80, 1, 0    0.359788\n",
      "dtype: float64]\n",
      "[80, 2, 0    0.402116\n",
      "dtype: float64]\n",
      "[80, 3, 0    0.497354\n",
      "dtype: float64]\n",
      "[80, 4, 0    0.407407\n",
      "dtype: float64]\n",
      "[80, 5, 0    0.468254\n",
      "dtype: float64]\n",
      "[80, 6, 0    0.436508\n",
      "dtype: float64]\n",
      "[80, 7, 0    0.52381\n",
      "dtype: float64]\n",
      "[80, 8, 0    0.417989\n",
      "dtype: float64]\n",
      "[80, 9, 0    0.542328\n",
      "dtype: float64]\n",
      "[80, 10, 0    0.5\n",
      "dtype: float64]\n",
      "[90, 1, 0    0.526455\n",
      "dtype: float64]\n",
      "[90, 2, 0    0.529101\n",
      "dtype: float64]\n",
      "[90, 3, 0    0.428571\n",
      "dtype: float64]\n",
      "[90, 4, 0    0.505291\n",
      "dtype: float64]\n",
      "[90, 5, 0    0.407407\n",
      "dtype: float64]\n",
      "[90, 6, 0    0.42328\n",
      "dtype: float64]\n",
      "[90, 7, 0    0.410053\n",
      "dtype: float64]\n",
      "[90, 8, 0    0.473545\n",
      "dtype: float64]\n",
      "[90, 9, 0    0.44709\n",
      "dtype: float64]\n",
      "[90, 10, 0    0.529101\n",
      "dtype: float64]\n",
      "[100, 1, 0    0.306878\n",
      "dtype: float64]\n",
      "[100, 2, 0    0.579365\n",
      "dtype: float64]\n",
      "[100, 3, 0    0.513228\n",
      "dtype: float64]\n",
      "[100, 4, 0    0.52381\n",
      "dtype: float64]\n",
      "[100, 5, 0    0.444444\n",
      "dtype: float64]\n",
      "[100, 6, 0    0.513228\n",
      "dtype: float64]\n",
      "[100, 7, 0    0.42328\n",
      "dtype: float64]\n",
      "[100, 8, 0    0.433862\n",
      "dtype: float64]\n",
      "[100, 9, 0    0.484127\n",
      "dtype: float64]\n",
      "[100, 10, 0    0.547619\n",
      "dtype: float64]\n",
      "[110, 1, 0    0.261905\n",
      "dtype: float64]\n",
      "[110, 2, 0    0.39418\n",
      "dtype: float64]\n",
      "[110, 3, 0    0.462963\n",
      "dtype: float64]\n",
      "[110, 4, 0    0.481481\n",
      "dtype: float64]\n",
      "[110, 5, 0    0.529101\n",
      "dtype: float64]\n",
      "[110, 6, 0    0.42328\n",
      "dtype: float64]\n",
      "[110, 7, 0    0.452381\n",
      "dtype: float64]\n",
      "[110, 8, 0    0.5\n",
      "dtype: float64]\n",
      "[110, 9, 0    0.444444\n",
      "dtype: float64]\n",
      "[110, 10, 0    0.521164\n",
      "dtype: float64]\n",
      "[120, 1, 0    0.60582\n",
      "dtype: float64]\n",
      "[120, 2, 0    0.62963\n",
      "dtype: float64]\n",
      "[120, 3, 0    0.325397\n",
      "dtype: float64]\n",
      "[120, 4, 0    0.373016\n",
      "dtype: float64]\n",
      "[120, 5, 0    0.449735\n",
      "dtype: float64]\n",
      "[120, 6, 0    0.566138\n",
      "dtype: float64]\n",
      "[120, 7, 0    0.439153\n",
      "dtype: float64]\n",
      "[120, 8, 0    0.449735\n",
      "dtype: float64]\n",
      "[120, 9, 0    0.531746\n",
      "dtype: float64]\n",
      "[120, 10, 0    0.407407\n",
      "dtype: float64]\n",
      "[130, 1, 0    0.415344\n",
      "dtype: float64]\n",
      "[130, 2, 0    0.373016\n",
      "dtype: float64]\n",
      "[130, 3, 0    0.515873\n",
      "dtype: float64]\n",
      "[130, 4, 0    0.391534\n",
      "dtype: float64]\n",
      "[130, 5, 0    0.497354\n",
      "dtype: float64]\n",
      "[130, 6, 0    0.452381\n",
      "dtype: float64]\n",
      "[130, 7, 0    0.449735\n",
      "dtype: float64]\n",
      "[130, 8, 0    0.531746\n",
      "dtype: float64]\n",
      "[130, 9, 0    0.526455\n",
      "dtype: float64]\n",
      "[130, 10, 0    0.515873\n",
      "dtype: float64]\n",
      "[140, 1, 0    0.568783\n",
      "dtype: float64]\n",
      "[140, 2, 0    0.320106\n",
      "dtype: float64]\n",
      "[140, 3, 0    0.436508\n",
      "dtype: float64]\n",
      "[140, 4, 0    0.439153\n",
      "dtype: float64]\n",
      "[140, 5, 0    0.457672\n",
      "dtype: float64]\n",
      "[140, 6, 0    0.425926\n",
      "dtype: float64]\n",
      "[140, 7, 0    0.489418\n",
      "dtype: float64]\n",
      "[140, 8, 0    0.42328\n",
      "dtype: float64]\n",
      "[140, 9, 0    0.412698\n",
      "dtype: float64]\n",
      "[140, 10, 0    0.468254\n",
      "dtype: float64]\n",
      "[150, 1, 0    0.404762\n",
      "dtype: float64]\n",
      "[150, 2, 0    0.365079\n",
      "dtype: float64]\n",
      "[150, 3, 0    0.330688\n",
      "dtype: float64]\n",
      "[150, 4, 0    0.505291\n",
      "dtype: float64]\n"
     ]
    },
    {
     "name": "stderr",
     "output_type": "stream",
     "text": [
      "/Library/Frameworks/Python.framework/Versions/3.11/lib/python3.11/site-packages/sklearn/neural_network/_multilayer_perceptron.py:698: UserWarning: Training interrupted by user.\n",
      "  warnings.warn(\"Training interrupted by user.\")\n"
     ]
    },
    {
     "name": "stdout",
     "output_type": "stream",
     "text": [
      "[150, 5, 0    0.664021\n",
      "dtype: float64]\n",
      "[150, 6, 0    0.462963\n",
      "dtype: float64]\n"
     ]
    }
   ],
   "source": [
    "results = [] # hyperparameter tuning\n",
    "for n in range(10, 500, 10):\n",
    "    for p in range(1, 11, 1):\n",
    "        model = MLPClassifier(hidden_layer_sizes=[n] * p, random_state=1)\n",
    "        prediction = model.fit(X_train, y_train).predict(X_test)\n",
    "        acc = benchmark_accuracy(prediction, y_test)\n",
    "        results.append([n, p, acc])\n",
    "        print(results[-1])"
   ]
  },
  {
   "cell_type": "code",
   "execution_count": 17,
   "metadata": {},
   "outputs": [
    {
     "data": {
      "text/plain": [
       "0    0.5\n",
       "dtype: float64"
      ]
     },
     "execution_count": 17,
     "metadata": {},
     "output_type": "execute_result"
    }
   ],
   "source": [
    "hmm_model = hmm.GaussianHMM(n_components=2, covariance_type=\"full\", n_iter=100)\n",
    "hmm_model.fit(train_data)\n",
    "\n",
    "hidden_states = hmm_model.predict(test_data)\n",
    "\n",
    "# Function to infer stock price movement based on hidden states\n",
    "def infer_movement(hidden_states):\n",
    "    movements = []\n",
    "    for state in hidden_states:\n",
    "        # This is a simplified example, you may need to adjust the logic\n",
    "        if state == 0:\n",
    "            movements.append(1)  # Assuming state 0 corresponds to rise\n",
    "        else:\n",
    "            movements.append(-1)  # Assuming state 1 corresponds to fall\n",
    "    return movements\n",
    "\n",
    "# Infer stock price movement for test data\n",
    "predicted_movements = infer_movement(hidden_states)\n",
    "benchmark_accuracy(predicted_movements, y_test)"
   ]
  },
  {
   "cell_type": "code",
   "execution_count": 18,
   "metadata": {},
   "outputs": [
    {
     "data": {
      "text/plain": [
       "0    0.531746\n",
       "dtype: float64"
      ]
     },
     "execution_count": 18,
     "metadata": {},
     "output_type": "execute_result"
    }
   ],
   "source": [
    "from sklearn.svm import SVC\n",
    "model = SVC(kernel='linear')\n",
    "model.fit(X_train, y_train)\n",
    "pred = model.predict(X_test)\n",
    "benchmark_accuracy(pred, y_test)"
   ]
  },
  {
   "cell_type": "code",
   "execution_count": 45,
   "metadata": {},
   "outputs": [
    {
     "data": {
      "text/plain": [
       "2216"
      ]
     },
     "execution_count": 45,
     "metadata": {},
     "output_type": "execute_result"
    }
   ],
   "source": [
    "raw = pd.read_csv(FILEPATH_STOCK_PRICE, index_col = 0, parse_dates = True)\n",
    "apple_data = raw['AAPL.O']\n",
    "\n",
    "train_data, test_data = sequential_train_test_split(apple_data)\n",
    "prediction = predict_position(train_data, test_data)\n",
    "len(apple_data)"
   ]
  },
  {
   "cell_type": "code",
   "execution_count": 37,
   "metadata": {},
   "outputs": [],
   "source": [
    "all_train_data = []\n",
    "\n",
    "for stock_name in STOCK_NAMES:\n",
    "    data = raw[stock_name]\n",
    "    train_data, _ = sequential_train_test_split(data)\n",
    "    all_train_data.append(train_data)"
   ]
  },
  {
   "cell_type": "code",
   "execution_count": 43,
   "metadata": {},
   "outputs": [
    {
     "name": "stdout",
     "output_type": "stream",
     "text": [
      "0    0.516355\n",
      "dtype: float64\n",
      "0    0.471963\n",
      "dtype: float64\n",
      "0    0.528037\n",
      "dtype: float64\n",
      "0    0.528037\n",
      "dtype: float64\n",
      "0    0.490654\n",
      "dtype: float64\n"
     ]
    }
   ],
   "source": [
    "accuracies = []\n",
    "for train_data in all_train_data:\n",
    "    prediction = predict_position(train_data, test_data)\n",
    "    accuracy = benchmark_accuracy(prediction, test_data)\n",
    "    print(accuracy)\n"
   ]
  },
  {
   "cell_type": "code",
   "execution_count": 35,
   "metadata": {},
   "outputs": [
    {
     "data": {
      "text/plain": [
       "0    0.528037\n",
       "dtype: float64"
      ]
     },
     "execution_count": 35,
     "metadata": {},
     "output_type": "execute_result"
    }
   ],
   "source": [
    "benchmark_accuracy(prediction, test_data)"
   ]
  },
  {
   "cell_type": "code",
   "execution_count": 29,
   "metadata": {},
   "outputs": [
    {
     "data": {
      "text/plain": [
       "[<matplotlib.lines.Line2D at 0x304d8e4d0>]"
      ]
     },
     "execution_count": 29,
     "metadata": {},
     "output_type": "execute_result"
    },
    {
     "data": {
      "image/png": "[encoded data removed]",
      "text/plain": [
       "<Figure size 640x480 with 1 Axes>"
      ]
     },
     "metadata": {},
     "output_type": "display_data"
    }
   ],
   "source": [
    "plt.plot(test_data)"
   ]
  },
  {
   "cell_type": "code",
   "execution_count": 23,
   "metadata": {},
   "outputs": [
    {
     "data": {
      "text/plain": [
       "428"
      ]
     },
     "execution_count": 23,
     "metadata": {},
     "output_type": "execute_result"
    }
   ],
   "source": [
    "len(test_data)"
   ]
  },
  {
   "cell_type": "code",
   "execution_count": 19,
   "metadata": {},
   "outputs": [
    {
     "ename": "AttributeError",
     "evalue": "'numpy.ndarray' object has no attribute 'apply'",
     "output_type": "error",
     "traceback": [
      "\u001b[0;31m---------------------------------------------------------------------------\u001b[0m",
      "\u001b[0;31mAttributeError\u001b[0m                            Traceback (most recent call last)",
      "Cell \u001b[0;32mIn[19], line 1\u001b[0m\n\u001b[0;32m----> 1\u001b[0m \u001b[43mprediction\u001b[49m\u001b[38;5;241;43m.\u001b[39;49m\u001b[43mapply\u001b[49m(\u001b[38;5;28;01mlambda\u001b[39;00m x: \u001b[38;5;241m0\u001b[39m)\n",
      "\u001b[0;31mAttributeError\u001b[0m: 'numpy.ndarray' object has no attribute 'apply'"
     ]
    }
   ],
   "source": []
  },
  {
   "cell_type": "code",
   "execution_count": 130,
   "metadata": {},
   "outputs": [
    {
     "data": {
      "text/html": [
       "<div>\n",
       "<style scoped>\n",
       "    .dataframe tbody tr th:only-of-type {\n",
       "        vertical-align: middle;\n",
       "    }\n",
       "\n",
       "    .dataframe tbody tr th {\n",
       "        vertical-align: top;\n",
       "    }\n",
       "\n",
       "    .dataframe thead th {\n",
       "        text-align: right;\n",
       "    }\n",
       "</style>\n",
       "<table border=\"1\" class=\"dataframe\">\n",
       "  <thead>\n",
       "    <tr style=\"text-align: right;\">\n",
       "      <th></th>\n",
       "      <th>AAPL.O</th>\n",
       "      <th>MSFT.O</th>\n",
       "      <th>INTC.O</th>\n",
       "      <th>AMZN.O</th>\n",
       "      <th>GS.N</th>\n",
       "      <th>SPY</th>\n",
       "      <th>.SPX</th>\n",
       "      <th>.VIX</th>\n",
       "      <th>EUR=</th>\n",
       "      <th>XAU=</th>\n",
       "      <th>GDX</th>\n",
       "      <th>GLD</th>\n",
       "    </tr>\n",
       "    <tr>\n",
       "      <th>Date</th>\n",
       "      <th></th>\n",
       "      <th></th>\n",
       "      <th></th>\n",
       "      <th></th>\n",
       "      <th></th>\n",
       "      <th></th>\n",
       "      <th></th>\n",
       "      <th></th>\n",
       "      <th></th>\n",
       "      <th></th>\n",
       "      <th></th>\n",
       "      <th></th>\n",
       "    </tr>\n",
       "  </thead>\n",
       "  <tbody>\n",
       "    <tr>\n",
       "      <th>2010-01-01</th>\n",
       "      <td>NaN</td>\n",
       "      <td>NaN</td>\n",
       "      <td>NaN</td>\n",
       "      <td>NaN</td>\n",
       "      <td>NaN</td>\n",
       "      <td>NaN</td>\n",
       "      <td>NaN</td>\n",
       "      <td>NaN</td>\n",
       "      <td>1.4323</td>\n",
       "      <td>1096.35</td>\n",
       "      <td>NaN</td>\n",
       "      <td>NaN</td>\n",
       "    </tr>\n",
       "    <tr>\n",
       "      <th>2010-01-04</th>\n",
       "      <td>30.572827</td>\n",
       "      <td>30.950</td>\n",
       "      <td>20.88</td>\n",
       "      <td>133.90</td>\n",
       "      <td>173.08</td>\n",
       "      <td>113.33</td>\n",
       "      <td>1132.99</td>\n",
       "      <td>20.04</td>\n",
       "      <td>1.4411</td>\n",
       "      <td>1120.00</td>\n",
       "      <td>47.71</td>\n",
       "      <td>109.80</td>\n",
       "    </tr>\n",
       "    <tr>\n",
       "      <th>2010-01-05</th>\n",
       "      <td>30.625684</td>\n",
       "      <td>30.960</td>\n",
       "      <td>20.87</td>\n",
       "      <td>134.69</td>\n",
       "      <td>176.14</td>\n",
       "      <td>113.63</td>\n",
       "      <td>1136.52</td>\n",
       "      <td>19.35</td>\n",
       "      <td>1.4368</td>\n",
       "      <td>1118.65</td>\n",
       "      <td>48.17</td>\n",
       "      <td>109.70</td>\n",
       "    </tr>\n",
       "    <tr>\n",
       "      <th>2010-01-06</th>\n",
       "      <td>30.138541</td>\n",
       "      <td>30.770</td>\n",
       "      <td>20.80</td>\n",
       "      <td>132.25</td>\n",
       "      <td>174.26</td>\n",
       "      <td>113.71</td>\n",
       "      <td>1137.14</td>\n",
       "      <td>19.16</td>\n",
       "      <td>1.4412</td>\n",
       "      <td>1138.50</td>\n",
       "      <td>49.34</td>\n",
       "      <td>111.51</td>\n",
       "    </tr>\n",
       "    <tr>\n",
       "      <th>2010-01-07</th>\n",
       "      <td>30.082827</td>\n",
       "      <td>30.452</td>\n",
       "      <td>20.60</td>\n",
       "      <td>130.00</td>\n",
       "      <td>177.67</td>\n",
       "      <td>114.19</td>\n",
       "      <td>1141.69</td>\n",
       "      <td>19.06</td>\n",
       "      <td>1.4318</td>\n",
       "      <td>1131.90</td>\n",
       "      <td>49.10</td>\n",
       "      <td>110.82</td>\n",
       "    </tr>\n",
       "    <tr>\n",
       "      <th>...</th>\n",
       "      <td>...</td>\n",
       "      <td>...</td>\n",
       "      <td>...</td>\n",
       "      <td>...</td>\n",
       "      <td>...</td>\n",
       "      <td>...</td>\n",
       "      <td>...</td>\n",
       "      <td>...</td>\n",
       "      <td>...</td>\n",
       "      <td>...</td>\n",
       "      <td>...</td>\n",
       "      <td>...</td>\n",
       "    </tr>\n",
       "    <tr>\n",
       "      <th>2018-06-25</th>\n",
       "      <td>182.170000</td>\n",
       "      <td>98.390</td>\n",
       "      <td>50.71</td>\n",
       "      <td>1663.15</td>\n",
       "      <td>221.54</td>\n",
       "      <td>271.00</td>\n",
       "      <td>2717.07</td>\n",
       "      <td>17.33</td>\n",
       "      <td>1.1702</td>\n",
       "      <td>1265.00</td>\n",
       "      <td>22.01</td>\n",
       "      <td>119.89</td>\n",
       "    </tr>\n",
       "    <tr>\n",
       "      <th>2018-06-26</th>\n",
       "      <td>184.430000</td>\n",
       "      <td>99.080</td>\n",
       "      <td>49.67</td>\n",
       "      <td>1691.09</td>\n",
       "      <td>221.58</td>\n",
       "      <td>271.60</td>\n",
       "      <td>2723.06</td>\n",
       "      <td>15.92</td>\n",
       "      <td>1.1645</td>\n",
       "      <td>1258.64</td>\n",
       "      <td>21.95</td>\n",
       "      <td>119.26</td>\n",
       "    </tr>\n",
       "    <tr>\n",
       "      <th>2018-06-27</th>\n",
       "      <td>184.160000</td>\n",
       "      <td>97.540</td>\n",
       "      <td>48.76</td>\n",
       "      <td>1660.51</td>\n",
       "      <td>220.18</td>\n",
       "      <td>269.35</td>\n",
       "      <td>2699.63</td>\n",
       "      <td>17.91</td>\n",
       "      <td>1.1552</td>\n",
       "      <td>1251.62</td>\n",
       "      <td>21.81</td>\n",
       "      <td>118.58</td>\n",
       "    </tr>\n",
       "    <tr>\n",
       "      <th>2018-06-28</th>\n",
       "      <td>185.500000</td>\n",
       "      <td>98.630</td>\n",
       "      <td>49.25</td>\n",
       "      <td>1701.45</td>\n",
       "      <td>223.42</td>\n",
       "      <td>270.89</td>\n",
       "      <td>2716.31</td>\n",
       "      <td>16.85</td>\n",
       "      <td>1.1567</td>\n",
       "      <td>1247.88</td>\n",
       "      <td>21.93</td>\n",
       "      <td>118.22</td>\n",
       "    </tr>\n",
       "    <tr>\n",
       "      <th>2018-06-29</th>\n",
       "      <td>185.110000</td>\n",
       "      <td>98.610</td>\n",
       "      <td>49.71</td>\n",
       "      <td>1699.80</td>\n",
       "      <td>220.57</td>\n",
       "      <td>271.28</td>\n",
       "      <td>2718.37</td>\n",
       "      <td>16.09</td>\n",
       "      <td>1.1683</td>\n",
       "      <td>1252.25</td>\n",
       "      <td>22.31</td>\n",
       "      <td>118.65</td>\n",
       "    </tr>\n",
       "  </tbody>\n",
       "</table>\n",
       "<p>2216 rows × 12 columns</p>\n",
       "</div>"
      ],
      "text/plain": [
       "                AAPL.O  MSFT.O  INTC.O   AMZN.O    GS.N     SPY     .SPX  \\\n",
       "Date                                                                       \n",
       "2010-01-01         NaN     NaN     NaN      NaN     NaN     NaN      NaN   \n",
       "2010-01-04   30.572827  30.950   20.88   133.90  173.08  113.33  1132.99   \n",
       "2010-01-05   30.625684  30.960   20.87   134.69  176.14  113.63  1136.52   \n",
       "2010-01-06   30.138541  30.770   20.80   132.25  174.26  113.71  1137.14   \n",
       "2010-01-07   30.082827  30.452   20.60   130.00  177.67  114.19  1141.69   \n",
       "...                ...     ...     ...      ...     ...     ...      ...   \n",
       "2018-06-25  182.170000  98.390   50.71  1663.15  221.54  271.00  2717.07   \n",
       "2018-06-26  184.430000  99.080   49.67  1691.09  221.58  271.60  2723.06   \n",
       "2018-06-27  184.160000  97.540   48.76  1660.51  220.18  269.35  2699.63   \n",
       "2018-06-28  185.500000  98.630   49.25  1701.45  223.42  270.89  2716.31   \n",
       "2018-06-29  185.110000  98.610   49.71  1699.80  220.57  271.28  2718.37   \n",
       "\n",
       "             .VIX    EUR=     XAU=    GDX     GLD  \n",
       "Date                                               \n",
       "2010-01-01    NaN  1.4323  1096.35    NaN     NaN  \n",
       "2010-01-04  20.04  1.4411  1120.00  47.71  109.80  \n",
       "2010-01-05  19.35  1.4368  1118.65  48.17  109.70  \n",
       "2010-01-06  19.16  1.4412  1138.50  49.34  111.51  \n",
       "2010-01-07  19.06  1.4318  1131.90  49.10  110.82  \n",
       "...           ...     ...      ...    ...     ...  \n",
       "2018-06-25  17.33  1.1702  1265.00  22.01  119.89  \n",
       "2018-06-26  15.92  1.1645  1258.64  21.95  119.26  \n",
       "2018-06-27  17.91  1.1552  1251.62  21.81  118.58  \n",
       "2018-06-28  16.85  1.1567  1247.88  21.93  118.22  \n",
       "2018-06-29  16.09  1.1683  1252.25  22.31  118.65  \n",
       "\n",
       "[2216 rows x 12 columns]"
      ]
     },
     "execution_count": 130,
     "metadata": {},
     "output_type": "execute_result"
    }
   ],
   "source": [
    "raw = pd.read_csv('tr_eikon_eod_data.csv', index_col = 0, parse_dates = True)\n",
    "raw"
   ]
  },
  {
   "cell_type": "code",
   "execution_count": 12,
   "metadata": {},
   "outputs": [],
   "source": [
    "def extract_train_and_test_data(data):\n",
    "    return np.split(data.dropna().to_numpy(), 2)\n",
    "\n",
    "def predict_position(train, test):\n",
    "    # Train Hidden Markov Model\n",
    "    model = hmm.GaussianHMM(n_components=2, covariance_type=\"diag\", n_iter=1000)\n",
    "    model.fit(train.reshape(-1, 1))\n",
    "\n",
    "    # Predict hidden states for test data\n",
    "    hidden_states = model.predict(test.reshape(-1, 1))\n",
    "\n",
    "    # Define a function to map hidden states to rise or fall\n",
    "    def map_to_rise_or_fall(state):\n",
    "        return \"Rise\" if state == 0 else \"Fall\"\n",
    "\n",
    "    # Map hidden states to rise or fall\n",
    "    predicted_rise_fall = np.array(list(map(map_to_rise_or_fall, hidden_states)))\n",
    "\n",
    "    return predicted_rise_fall\n",
    "\n",
    "def trade(balance, test, prediction):\n",
    "    position = 0\n",
    "\n",
    "    for today in range(len(test) - 1):\n",
    "        tomorrow = today + 1\n",
    "        if prediction[tomorrow] == \"Rise\":\n",
    "            balance -= (1 - position) * test[today]\n",
    "        else:\n",
    "            balance += (position + 1) * test[today]\n",
    "    \n",
    "    balance += position * test[-1]\n",
    "\n",
    "    return balance\n",
    "\n",
    "def backtest(data):\n",
    "    train_data, test_data = extract_train_and_test_data(data)\n",
    "\n",
    "    N = 1000\n",
    "    profit = 0\n",
    "    for _ in range(N):\n",
    "        prediction = predict_position(train_data, test_data)\n",
    "        profit += trade(0, test_data, prediction)\n",
    "\n",
    "    return profit / N\n",
    "\n",
    "def run_simulation():\n",
    "    raw = pd.read_csv('tr_eikon_eod_data.csv', index_col = 0, parse_dates = True)\n",
    "    stock_names = ['AAPL.O', 'MSFT.O', 'INTC.O', 'AMZN.O', 'GS.N']\n",
    "    # stock_names = ['AMZN.O']\n",
    "    for stock_name in stock_names:\n",
    "        print(f\"{stock_name}: ${backtest(raw[stock_name])}\")"
   ]
  },
  {
   "cell_type": "code",
   "execution_count": 221,
   "metadata": {},
   "outputs": [
    {
     "name": "stdout",
     "output_type": "stream",
     "text": [
      "AAPL.O: $25898.205453573253\n",
      "MSFT.O: $2129.5166480000007\n",
      "INTC.O: $9980.475258600052\n",
      "AMZN.O: $17844.423592000006\n",
      "GS.N: $-36143.16516000001\n"
     ]
    }
   ],
   "source": [
    "run_simulation()"
   ]
  },
  {
   "cell_type": "code",
   "execution_count": 226,
   "metadata": {},
   "outputs": [
    {
     "name": "stdout",
     "output_type": "stream",
     "text": [
      "29677.512099999945\n"
     ]
    }
   ],
   "source": [
    "raw = pd.read_csv('tr_eikon_eod_data.csv', index_col = 0, parse_dates = True)\n",
    "apple_train_data, _ = extract_train_and_test_data(raw['AAPL.O'])\n",
    "_, goldmann_test_data = extract_train_and_test_data(raw['GS.N'])\n",
    "\n",
    "N = 1000\n",
    "profit = 0\n",
    "for _ in range(N):\n",
    "    prediction = predict_position(apple_train_data, goldmann_test_data)\n",
    "    profit += trade(0, goldmann_test_data, prediction)\n",
    "\n",
    "print(profit / N)"
   ]
  },
  {
   "cell_type": "code",
   "execution_count": 229,
   "metadata": {},
   "outputs": [],
   "source": [
    "def run_simulation_2():\n",
    "    stock_names = ['AAPL.O', 'MSFT.O', 'INTC.O', 'AMZN.O', 'GS.N']\n",
    "    raw = pd.read_csv('tr_eikon_eod_data.csv', index_col = 0, parse_dates = True)\n",
    "    raw = raw[stock_names]\n",
    "    raw = raw.dropna()\n",
    "\n",
    "    all_predictions = {}\n",
    "    all_train_data = {}\n",
    "    all_test_data = {}\n",
    "    N = 1000\n",
    "\n",
    "    for stock_name in stock_names:\n",
    "        train_data, test_data = extract_train_and_test_data(raw[stock_name])\n",
    "        all_train_data[stock_name] = train_data\n",
    "        all_test_data[stock_name] = test_data\n",
    "        all_predictions[stock_name] = []\n",
    "        for _ in range(N):\n",
    "            all_predictions[stock_name].append(predict_position(train_data, test_data))\n",
    "    \n",
    "    def calculate_profit(test, prediction):\n",
    "        balance = 0\n",
    "        position = 0\n",
    "\n",
    "        for today in range(len(test) - 1):\n",
    "            tomorrow = today + 1\n",
    "            if prediction[tomorrow] == \"Rise\":\n",
    "                balance -= (1 - position) * test[today]\n",
    "            else:\n",
    "                balance += (position + 1) * test[today]\n",
    "        \n",
    "        balance += position * test[-1]\n",
    "\n",
    "        return balance\n",
    "    \n",
    "    total_profit = 0\n",
    "    for stock_name in stock_names:\n",
    "        print(stock_name)\n",
    "        best_profit = -float('inf')\n",
    "        for other_stock_name in stock_names:\n",
    "            profit = 0\n",
    "            for prediction in all_predictions[other_stock_name]:\n",
    "                profit += calculate_profit(all_test_data[stock_name], prediction)\n",
    "            profit = profit / N\n",
    "            print(f\"{other_stock_name} {profit}\")\n",
    "            best_profit = max(profit, best_profit)\n",
    "        print(best_profit)\n",
    "        total_profit += best_profit\n",
    "    print(f\"total: {total_profit}\")"
   ]
  },
  {
   "cell_type": "code",
   "execution_count": 230,
   "metadata": {},
   "outputs": [
    {
     "name": "stdout",
     "output_type": "stream",
     "text": [
      "AAPL.O\n",
      "AAPL.O 25985.29352180123\n",
      "MSFT.O 3414.19760523545\n",
      "INTC.O 33926.50375862077\n",
      "AMZN.O 70.2750722065244\n",
      "GS.N -21917.342845407937\n",
      "33926.50375862077\n",
      "MSFT.O\n",
      "AAPL.O 12294.226189000055\n",
      "MSFT.O 1617.7773159999997\n",
      "INTC.O 16069.162077000099\n",
      "AMZN.O 51.437720000000745\n",
      "GS.N -10208.978761000004\n",
      "16069.162077000099\n",
      "INTC.O\n",
      "AAPL.O 7386.089202400018\n",
      "MSFT.O 970.7153455999982\n",
      "INTC.O 9641.54737020004\n",
      "AMZN.O 18.747831000000346\n",
      "GS.N -6272.111987600012\n",
      "9641.54737020004\n",
      "AMZN.O\n",
      "AAPL.O 151746.46054599996\n",
      "MSFT.O 20037.396482000004\n",
      "INTC.O 198938.60825999937\n",
      "AMZN.O 990.8663179999922\n",
      "GS.N -121335.578\n",
      "198938.60825999937\n",
      "GS.N\n",
      "AAPL.O 41245.020420000044\n",
      "MSFT.O 5408.518340000005\n",
      "INTC.O 53786.47126000027\n",
      "AMZN.O 95.56859999999847\n",
      "GS.N -35035.120339999994\n",
      "53786.47126000027\n",
      "total: 312362.29272582056\n"
     ]
    }
   ],
   "source": [
    "run_simulation_2()"
   ]
  },
  {
   "cell_type": "code",
   "execution_count": 224,
   "metadata": {},
   "outputs": [
    {
     "name": "stdout",
     "output_type": "stream",
     "text": [
      "AAPL.O\n",
      "AAPL.O AAPL.O 27853.361191936856\n",
      "AAPL.O MSFT.O -96435.26540000005\n",
      "AAPL.O INTC.O -43499.33809999993\n",
      "AAPL.O AMZN.O 2605379.555300001\n",
      "AAPL.O GS.N 107605.82999999926\n",
      "2600904.142991937\n",
      "MSFT.O\n",
      "MSFT.O AAPL.O -184803.37943080335\n",
      "MSFT.O MSFT.O -41220.69559999986\n",
      "MSFT.O INTC.O 12020.668100000035\n",
      "MSFT.O AMZN.O -2606946.2453000005\n",
      "MSFT.O GS.N -107656.37999999925\n",
      "-2928606.0322308033\n",
      "INTC.O\n",
      "INTC.O AAPL.O -195801.72009076882\n",
      "INTC.O MSFT.O -78245.98539999982\n",
      "INTC.O INTC.O -8896.086700000007\n",
      "INTC.O AMZN.O -2606946.2453000005\n",
      "INTC.O GS.N -107656.37999999925\n",
      "-2997546.4174907687\n",
      "AMZN.O\n",
      "AMZN.O AAPL.O 195956.31012128887\n",
      "AMZN.O MSFT.O 115556.51539999993\n",
      "AMZN.O INTC.O 43499.33809999993\n",
      "AMZN.O AMZN.O -395851.60470000096\n",
      "AMZN.O GS.N 107656.37999999925\n",
      "66816.93892128702\n",
      "GS.N\n",
      "GS.N AAPL.O -195956.31012128887\n",
      "GS.N MSFT.O -115556.51539999993\n",
      "GS.N INTC.O -43499.33809999993\n",
      "GS.N AMZN.O -580151.1991\n",
      "GS.N GS.N -84820.80999999981\n",
      "-1019984.1727212885\n"
     ]
    }
   ],
   "source": [
    "import numpy as np\n",
    "from hmmlearn import hmm\n",
    "from sklearn.model_selection import train_test_split\n",
    "from sklearn.metrics import mean_squared_error\n",
    "import pandas as pd\n",
    "\n",
    "# Generate some example data\n",
    "np.random.seed(42)\n",
    "num_days = 100\n",
    "num_stocks = 5\n",
    "stock_prices = pd.read_csv('tr_eikon_eod_data.csv', parse_dates=True)\n",
    "#stock_prices = stock_prices[['AAPL.O', 'MSFT.O', 'INTC.O', 'AMZN.O', 'GS.N']].dropna().to_numpy()\n",
    "stocks = ['AAPL.O', 'MSFT.O', 'INTC.O', 'AMZN.O', 'GS.N']\n",
    "stock_prices = stock_prices[['AAPL.O', 'MSFT.O', 'INTC.O', 'AMZN.O', 'GS.N']].dropna().to_numpy()\n",
    "stock_prices = stock_prices.reshape(-1, 1)\n",
    "stock_prices = pd.DataFrame(stock_prices)\n",
    "\n",
    "\n",
    "\n",
    "data = pd.read_csv('tr_eikon_eod_data.csv', parse_dates=True)\n",
    "data = data[['AAPL.O', 'MSFT.O', 'INTC.O', 'AMZN.O', 'GS.N']]\n",
    "\n",
    "# Initialize variables\n",
    "current_balance = 0\n",
    "position = None\n",
    "value = 0\n",
    "\n",
    "# Function to calculate profit based on transaction type\n",
    "def calculate_profit(transaction_type, price, change = False):\n",
    "    global current_balance, position, value\n",
    "    price = float(price)\n",
    "    if transaction_type == \"buy\":\n",
    "        if change :\n",
    "            position = \"long\"  \n",
    "            current_balance -= price*value\n",
    "        current_balance -= price  # Buying for $100\n",
    "    elif transaction_type == \"sell\":\n",
    "        if change : \n",
    "            position = \"short\" \n",
    "            current_balance += price*value\n",
    "        current_balance += price  # Selling short for $100\n",
    "    \n",
    "    if change : \n",
    "        value = 1\n",
    "    else :\n",
    "        value += 1\n",
    "\n",
    "def calculate(predicted_states, test_data) :\n",
    "  global position, value, current_balance\n",
    "  position = None\n",
    "  value = 0\n",
    "  current_balance = 0\n",
    "\n",
    "  temp = np.hstack([predicted_states.reshape(-1,1), test_data.to_numpy()])\n",
    "  for state, price in temp :\n",
    "    try :\n",
    "        price = float(price)\n",
    "    except :\n",
    "        continue\n",
    "    if state == 0:  # Buy\n",
    "        if position == \"long\":  # No position, buy\n",
    "            calculate_profit(\"buy\", price)\n",
    "        if position == \"short\" or position is None:  # No position, buy\n",
    "            calculate_profit(\"buy\", price, True)\n",
    "    else:  # Sell (short)\n",
    "        if position == \"short\":  # Shorting when there's a position\n",
    "            calculate_profit(\"sell\", price)\n",
    "        if position == \"long\" or position is None:  # Shorting when there's a position\n",
    "            calculate_profit(\"sell\", price, True)\n",
    "    \n",
    "\n",
    "for i in stocks :\n",
    "  stock_prices = pd.read_csv('tr_eikon_eod_data.csv', parse_dates=True)\n",
    "  stock_prices = stock_prices[i].dropna().to_numpy()\n",
    "  stock_prices = stock_prices.reshape(-1, 1)\n",
    "  stock_prices = pd.DataFrame(stock_prices)\n",
    "  print(i)\n",
    "  \n",
    "  train_data = stock_prices\n",
    "  test_data = stock_prices\n",
    "\n",
    "  model = hmm.GaussianHMM(n_components=2, covariance_type=\"full\", n_iter=100)\n",
    "  model.fit(train_data)\n",
    "\n",
    "  total = 0\n",
    "\n",
    "  for j in stocks :\n",
    "    test_data = data[j].dropna().to_numpy()\n",
    "    test_data = test_data.reshape(-1, 1)\n",
    "    test_data = pd.DataFrame(test_data)\n",
    "\n",
    "    predicted_states = model.predict(test_data)\n",
    "\n",
    "    calculate(predicted_states, test_data)\n",
    "\n",
    "    multiplier = 0\n",
    "    if position == \"long\" :\n",
    "        multiplier = 1\n",
    "    else :\n",
    "        multiplier = -1\n",
    "        \n",
    "    final_balance = current_balance + test_data.iloc[-1, 0] * value * multiplier\n",
    "    total += final_balance\n",
    "    print(i, j, final_balance)\n",
    "  print(total)\n"
   ]
  }
 ],
 "metadata": {
  "kernelspec": {
   "display_name": "Python 3",
   "language": "python",
   "name": "python3"
  },
  "language_info": {
   "codemirror_mode": {
    "name": "ipython",
    "version": 3
   },
   "file_extension": ".py",
   "mimetype": "text/x-python",
   "name": "python",
   "nbconvert_exporter": "python",
   "pygments_lexer": "ipython3",
   "version": "3.11.6"
  }
 },
 "nbformat": 4,
 "nbformat_minor": 2
}
